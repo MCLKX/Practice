{
 "cells": [
  {
   "cell_type": "markdown",
   "id": "9f3ead69-a3af-402f-b68c-e4bb465ca079",
   "metadata": {},
   "source": [
    "# Data Science Tools and Ecosystem"
   ]
  },
  {
   "cell_type": "markdown",
   "id": "a333a874-1c79-4516-aa65-8faffc97ea33",
   "metadata": {},
   "source": [
    "In this notebook, Data Science Tools and Ecosystem are summarized."
   ]
  },
  {
   "cell_type": "markdown",
   "id": "a8ec8294-4d1d-4409-901b-8bd42239ea2e",
   "metadata": {},
   "source": [
    "**Objectives:**\n",
    "    - List popular languages for Data Science\n",
    "    - List of most common libraries used by Data Scientists\n",
    "    - Table of tools used by Data Scientists\n",
    "    - Evaluating basic arithmetic expressions"
   ]
  },
  {
   "cell_type": "markdown",
   "id": "ac0fcc4b-0d5a-42ff-9e93-a8e88f92d2f1",
   "metadata": {},
   "source": [
    "Some of the popular languages that Data Scientists use are:\n",
    "\n",
    "    1. Python\n",
    "    2. R\n",
    "    3. Julia\n",
    "\n",
    "Some of the commonly used libraries used by Data Scientists include:\n",
    "\n",
    "    1. Panda\n",
    "    2. Numpy\n",
    "    3. Scikit"
   ]
  },
  {
   "cell_type": "markdown",
   "id": "78d016ce-8dc0-4eea-9e45-e20bce7aa4ef",
   "metadata": {},
   "source": [
    "| Data Science Tools |\n",
    "| ------------------ |\n",
    "| Tensorflow         |\n",
    "| RStudio            |\n",
    "| ApacheSpark        |"
   ]
  },
  {
   "cell_type": "markdown",
   "id": "61021180-a7bb-4b1d-ba15-1514a0d8de8d",
   "metadata": {},
   "source": [
    "### Below are a few examples of evaluating arithmetic expressions in Python"
   ]
  },
  {
   "cell_type": "code",
   "execution_count": 4,
   "id": "c5213be8-7f31-4fd0-a347-5cc24069ff59",
   "metadata": {},
   "outputs": [
    {
     "data": {
      "text/plain": [
       "17"
      ]
     },
     "execution_count": 4,
     "metadata": {},
     "output_type": "execute_result"
    }
   ],
   "source": [
    "#This a simple arithmetic expression to mutiply then add integers\n",
    "\n",
    "(3*4)+5"
   ]
  },
  {
   "cell_type": "code",
   "execution_count": 5,
   "id": "9d80a143-cd5c-4d7a-bc93-3420b9e8f504",
   "metadata": {},
   "outputs": [
    {
     "data": {
      "text/plain": [
       "3.3333333333333335"
      ]
     },
     "execution_count": 5,
     "metadata": {},
     "output_type": "execute_result"
    }
   ],
   "source": [
    "#This will convert 200 minutes to hours by diving by 60\n",
    "\n",
    "mins = 200\n",
    "min_per_hrs = 60\n",
    "\n",
    "mins/min_per_hrs"
   ]
  },
  {
   "cell_type": "markdown",
   "id": "cc48e7aa-6a73-4cfa-bbff-5ba91a9b7ed4",
   "metadata": {},
   "source": [
    "## Author\n",
    "\n",
    "Bruce Moquete"
   ]
  }
 ],
 "metadata": {
  "kernelspec": {
   "display_name": "Python 3 (ipykernel)",
   "language": "python",
   "name": "python3"
  },
  "language_info": {
   "codemirror_mode": {
    "name": "ipython",
    "version": 3
   },
   "file_extension": ".py",
   "mimetype": "text/x-python",
   "name": "python",
   "nbconvert_exporter": "python",
   "pygments_lexer": "ipython3",
   "version": "3.10.4"
  }
 },
 "nbformat": 4,
 "nbformat_minor": 5
}
